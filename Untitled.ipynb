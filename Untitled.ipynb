{
 "cells": [
  {
   "cell_type": "code",
   "execution_count": 8,
   "metadata": {},
   "outputs": [],
   "source": [
    "from PIL import Image\n",
    "import os, glob\n",
    "import numpy as np\n",
    "# from sklearn import cross_validation\n",
    "from sklearn import model_selection\n",
    "\n",
    "classes = [\"monkey\", \"boar\", \"crow\"]\n",
    "num_classes = len(classes)\n",
    "image_size = 50\n",
    "\n",
    "X = []\n",
    "Y = []\n",
    "\n",
    "for index, classlabel in enumerate(classes):\n",
    "    photos_dir = \"./\" + classlabel\n",
    "    files = glob.glob(photos_dir + \"/*.jpg\")\n",
    "    for i, file in enumerate(files):\n",
    "        if i >= 200: break\n",
    "        image = Image.open(file)\n",
    "        image = image.convert(\"RGB\")\n",
    "        image = image.resize((image_size, image_size))\n",
    "        data = np.asarray(image)\n",
    "        X.append(data)\n",
    "        Y.append(index)\n",
    "\n",
    "X = np.array(X)\n",
    "Y = np.array(Y)\n"
   ]
  },
  {
   "cell_type": "code",
   "execution_count": 9,
   "metadata": {},
   "outputs": [
    {
     "data": {
      "text/plain": [
       "array([[[ 60,  72,  48],\n",
       "        [135, 138, 109],\n",
       "        [159, 163, 112],\n",
       "        ...,\n",
       "        [138, 123,  92],\n",
       "        [ 80,  69,  49],\n",
       "        [ 37,  38,  24]],\n",
       "\n",
       "       [[169, 171, 149],\n",
       "        [114, 116, 102],\n",
       "        [ 32,  37,  41],\n",
       "        ...,\n",
       "        [146, 122,  94],\n",
       "        [ 79,  68,  38],\n",
       "        [ 50,  49,  29]],\n",
       "\n",
       "       [[186, 185, 154],\n",
       "        [ 18,  20,  15],\n",
       "        [  0,   7,   1],\n",
       "        ...,\n",
       "        [146, 135, 107],\n",
       "        [108,  94,  65],\n",
       "        [ 46,  43,  24]],\n",
       "\n",
       "       ...,\n",
       "\n",
       "       [[162, 138, 102],\n",
       "        [168, 142,  93],\n",
       "        [ 95,  75,  48],\n",
       "        ...,\n",
       "        [161, 150, 132],\n",
       "        [252, 253, 255],\n",
       "        [254, 255, 255]],\n",
       "\n",
       "       [[183, 155, 118],\n",
       "        [138, 118,  81],\n",
       "        [100,  83,  53],\n",
       "        ...,\n",
       "        [179, 160, 128],\n",
       "        [228, 219, 220],\n",
       "        [253, 254, 255]],\n",
       "\n",
       "       [[161, 137, 101],\n",
       "        [132, 113,  81],\n",
       "        [107,  90,  60],\n",
       "        ...,\n",
       "        [187, 167, 142],\n",
       "        [172, 163, 158],\n",
       "        [254, 255, 255]]], dtype=uint8)"
      ]
     },
     "execution_count": 9,
     "metadata": {},
     "output_type": "execute_result"
    }
   ],
   "source": [
    "X[0]"
   ]
  },
  {
   "cell_type": "code",
   "execution_count": null,
   "metadata": {},
   "outputs": [],
   "source": []
  }
 ],
 "metadata": {
  "kernelspec": {
   "display_name": "Python 3",
   "language": "python",
   "name": "python3"
  },
  "language_info": {
   "codemirror_mode": {
    "name": "ipython",
    "version": 3
   },
   "file_extension": ".py",
   "mimetype": "text/x-python",
   "name": "python",
   "nbconvert_exporter": "python",
   "pygments_lexer": "ipython3",
   "version": "3.6.8"
  }
 },
 "nbformat": 4,
 "nbformat_minor": 2
}
